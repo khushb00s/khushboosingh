{
 "cells": [
  {
   "cell_type": "code",
   "execution_count": 23,
   "id": "367878a8-a632-4f44-8af2-b2605b25e87d",
   "metadata": {
    "tags": []
   },
   "outputs": [
    {
     "name": "stdout",
     "output_type": "stream",
     "text": [
      "Product Id\tName\t\tCategory\tPrice\n",
      "1\t\tBoots\t\t1\t\t1000\n",
      "2\t\tCoats\t\t2\t\t2000\n",
      "3\t\tJackets\t\t3\t\t3000\n",
      "4\t\tCaps\t\t4\t\t200\n"
     ]
    }
   ],
   "source": [
    "catalogue = [\n",
    "    {\"id\": 1, \"name\": \"Boots\", \"category\": 1, \"price\": 1000},\n",
    "    {\"id\": 2, \"name\": \"Coats\", \"category\": 2, \"price\": 2000},\n",
    "    {\"id\": 3, \"name\": \"Jackets\", \"category\": 3, \"price\": 3000},\n",
    "    {\"id\": 4, \"name\": \"Caps\", \"category\": 4, \"price\": 200}\n",
    "]   \n",
    "def display_catalogue():\n",
    "    print(\"Product Id\\tName\\t\\tCategory\\tPrice\")\n",
    "    for product in catalogue:\n",
    "        print(f\"{product['id']}\\t\\t{product['name']}\\t\\t{product['category']}\\t\\t{product['price']}\")\n",
    "display_catalogue()"
   ]
  },
  {
   "cell_type": "code",
   "execution_count": 25,
   "id": "842f8d2c-fea6-486a-81dc-bcb275b9a6ba",
   "metadata": {
    "tags": []
   },
   "outputs": [
    {
     "name": "stdout",
     "output_type": "stream",
     "text": [
      "Product Id\tproduct name\tprice\n",
      "1\t\tPanipuri\t\t50\n",
      "2\t\tVeg Biryani\t\t400\n",
      "3\t\tmix veg\t\t200\n",
      "4\t\tsamosa\t\t80\n",
      "5\t\ticecream\t\t100\n",
      "6\t\tpaneer\t\t250\n",
      "7\t\tchat\t\t100\n",
      "8\t\tveg hakka noodles\t\t300\n"
     ]
    }
   ],
   "source": [
    "catalogue = [\n",
    "    {\"id\": 1, \"product name\": \"Panipuri\", \"price\": 50},\n",
    "    {\"id\": 2, \"product name\": \"Veg Biryani\", \"price\": 400},\n",
    "    {\"id\": 3, \"product name\": \"mix veg\", \"price\": 200},\n",
    "    {\"id\": 4, \"product name\": \"samosa\", \"price\": 80},\n",
    "    {\"id\": 5, \"product name\": \"icecream\", \"price\": 100},\n",
    "    {\"id\": 6, \"product name\": \"paneer\", \"price\": 250},\n",
    "    {\"id\": 7, \"product name\": \"chat\", \"price\": 100},\n",
    "    {\"id\": 8, \"product name\": \"veg hakka noodles\", \"price\": 300}\n",
    "]\n",
    "def display_catalogue():\n",
    "    print(\"Product Id\\tproduct name\\tprice\")\n",
    "    for product in catalogue:\n",
    "        print(f\"{product['id']}\\t\\t{product['product name']}\\t\\t{product['price']}\")\n",
    "display_catalogue()"
   ]
  },
  {
   "cell_type": "code",
   "execution_count": null,
   "id": "66668054-b40b-45f9-9ec7-fd9bc8d7aed2",
   "metadata": {
    "tags": []
   },
   "outputs": [
    {
     "name": "stdout",
     "output_type": "stream",
     "text": [
      "********Welcome to ZOMATO**********\n",
      "Hii Dear customer, i am your vertual assistant and I am very happy to welcome you in our Food factory.\n",
      "1.Available Foods\n",
      "2.Add foods to your Cart\n",
      "3.Delete foods to your Cart\n",
      "4.View your food Cart\n",
      "5.Exit\n"
     ]
    }
   ],
   "source": [
    "def display_cart():\n",
    "    print(\"product id\\tproduct name\")\n",
    "    print(\"No food items are available in your cart\")\n",
    "    for item in cart:\n",
    "        print(f\"{item['product_id']}\\t\\t{item['product name']}\")\n",
    "        \n",
    "catalogue = [\n",
    "    {\"id\": 1, \"product name\": \"Panipuri\",    \"price\": 50},\n",
    "    {\"id\": 2, \"product name\": \"Veg Biryani\", \"price\": 400},\n",
    "    {\"id\": 3, \"product name\": \"mix veg\",     \"price\": 200},\n",
    "    {\"id\": 4, \"product name\": \"samosa\",      \"price\": 80},\n",
    "    {\"id\": 5, \"product name\": \"icecream\",    \"price\": 100},\n",
    "    {\"id\": 6, \"product name\": \"paneer\",      \"price\": 250},\n",
    "    {\"id\": 7, \"product name\": \"chat\",        \"price\": 100},\n",
    "    {\"id\": 8, \"product name\": \"veg noodles\", \"price\": 300}\n",
    "]\n",
    "def display_catalogue():\n",
    "    print(\"Product Id\\tproduct name\\tprice\")\n",
    "    for product in catalogue:\n",
    "        print(f\"{product['id']}\\t\\t{product['product name']}\\t\\t{product['price']}\")\n",
    "        \n",
    "def add_to_cart(product_id):\n",
    "        product = [p for p in catalogue if p['id'] == product_id][0]\n",
    "        cart.append({\"product_id\": product_id, \"product name\": product['product name']})\n",
    "        print(f\" pieces of {product['product name']} added to the cart.\")\n",
    "        print(\"Your food has been sucessfully added to the cart\")\n",
    "\n",
    "def delete_from_cart(product_id):\n",
    "    for i, item in enumerate(cart):\n",
    "        if item['product_id'] == product_id:\n",
    "            del cart[i]\n",
    "            print(f\"{item['product name']} has sucessfully removed from the cart.\")\n",
    "            break\n",
    "            \n",
    "cart = []   \n",
    "print(\"********Welcome to ZOMATO**********\")\n",
    "while True:   \n",
    "        print(\"1.Available Foods\")\n",
    "        print(\"2.Add foods to your Cart\")\n",
    "        print(\"3.Delete foods to your Cart\")\n",
    "        print(\"4.View your food Cart\")\n",
    "        print(\"5.Exit\")\n",
    "        choice = int(input(\"Enter your choice: \"))\n",
    "        if choice ==1:\n",
    "            display_catalogue()\n",
    "        elif choice == 2:\n",
    "            product_id = int(input(\"Enter the product id: \"))\n",
    "            add_to_cart(product_id)\n",
    "        elif choice == 3:\n",
    "            product_id = int(input(\"Enter the product id: \"))\n",
    "            delete_from_cart(product_id)\n",
    "        elif choice == 4:\n",
    "            display_cart()\n",
    "        elif choice ==5:\n",
    "            break\n",
    "        else:\n",
    "            print(\"Invalid input. Please enter number between 1-5 \")        \n",
    "            print(\"Thank you for using ZOMATO.\")"
   ]
  },
  {
   "cell_type": "code",
   "execution_count": null,
   "id": "04b8df5c-7f32-45ee-acad-a2f5a9959004",
   "metadata": {},
   "outputs": [],
   "source": []
  }
 ],
 "metadata": {
  "kernelspec": {
   "display_name": "Python 3 (ipykernel)",
   "language": "python",
   "name": "python3"
  },
  "language_info": {
   "codemirror_mode": {
    "name": "ipython",
    "version": 3
   },
   "file_extension": ".py",
   "mimetype": "text/x-python",
   "name": "python",
   "nbconvert_exporter": "python",
   "pygments_lexer": "ipython3",
   "version": "3.11.5"
  }
 },
 "nbformat": 4,
 "nbformat_minor": 5
}
